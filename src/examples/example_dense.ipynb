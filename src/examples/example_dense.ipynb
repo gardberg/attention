{
 "cells": [
  {
   "cell_type": "code",
   "execution_count": null,
   "metadata": {},
   "outputs": [],
   "source": [
    "import sys\n",
    "sys.path.append('../')\n",
    "import attention"
   ]
  },
  {
   "cell_type": "code",
   "execution_count": null,
   "metadata": {},
   "outputs": [],
   "source": [
    "import jax.numpy as jnp\n",
    "import numpy as np\n",
    "import jax\n",
    "import matplotlib.pyplot as plt\n",
    "from sklearn.datasets import make_moons\n",
    "\n",
    "rng = jax.random.PRNGKey(np.random.randint(0, 10000))\n",
    "\n",
    "X, Y = make_moons(n_samples=1000, noise=0.2, random_state=0)\n",
    "\n",
    "print(X.shape)\n",
    "print(Y.shape)\n",
    "    \n",
    "plt.figure(figsize=(10, 6))\n",
    "plt.scatter(X[:, 0], X[:, 1], c=Y);\n"
   ]
  },
  {
   "cell_type": "code",
   "execution_count": null,
   "metadata": {},
   "outputs": [],
   "source": [
    "from torch.utils.data import Dataset, DataLoader\n",
    "\n",
    "class Data(Dataset):\n",
    "    def __init__(self, x, y):\n",
    "        self.x = x\n",
    "        self.y = y\n",
    "        \n",
    "    def __getitem__(self, idx):\n",
    "        return self.x[idx], self.y[idx]\n",
    "    \n",
    "    def __len__(self):\n",
    "        return len(self.x)\n",
    "\n",
    "BATCH_SIZE = 1\n",
    "loader = DataLoader(Data(X, Y), batch_size=BATCH_SIZE, shuffle=True)\n"
   ]
  },
  {
   "cell_type": "code",
   "execution_count": null,
   "metadata": {},
   "outputs": [],
   "source": [
    "from attention import Linear, LinearState, sigmoid, relu\n",
    "from loss import BCELoss\n",
    "from jax import random\n",
    "\n",
    "class Network:\n",
    "    def __init__(self):\n",
    "        self.layers = [Linear(2, 50), Linear(50, 50), Linear(50, 1)]\n",
    "\n",
    "    def __call__(self, state: list[LinearState], x: jax.Array) -> jax.Array:\n",
    "        for substate, layer in zip(state[:-1], self.layers[:-1]):\n",
    "            x = relu(layer(substate, x))\n",
    "        return sigmoid(self.layers[-1](state[-1], x))\n",
    "\n",
    "    def init_params(self, rng) -> list[LinearState]:\n",
    "        keys = random.split(rng, len(self.layers))\n",
    "        return [layer.init_state(key) for layer, key in zip(self.layers, keys)]\n",
    "\n",
    "net = Network()\n",
    "states = net.init_params(rng)\n"
   ]
  },
  {
   "cell_type": "code",
   "execution_count": null,
   "metadata": {},
   "outputs": [],
   "source": [
    "import numpy as np\n",
    "import os\n",
    "\n",
    "def plot_decision_boundary(net, X, y, epoch = None):\n",
    "    plt.figure(figsize=(10, 6))\n",
    "    x_min, x_max = X[:, 0].min() - 0.1, X[:, 0].max() + 0.1\n",
    "    y_min, y_max = X[:, 1].min() - 0.1, X[:, 1].max() + 0.1\n",
    "    xx, yy = np.meshgrid(np.arange(x_min, x_max, 0.01), np.arange(y_min, y_max, 0.01))\n",
    "    mesh_points = np.c_[xx.ravel(), yy.ravel()]\n",
    "\n",
    "    mesh_probs = net(states, mesh_points).reshape(xx.shape)\n",
    "\n",
    "    # Create a contour plot to display the decision boundary\n",
    "    plt.contourf(xx, yy, mesh_probs, levels=[0, 0.5, 1], cmap=plt.cm.RdBu, alpha=0.6)\n",
    "\n",
    "    # Plot the data points for the two classes\n",
    "    plt.scatter(X[y == 0][:, 0], X[y == 0][:, 1], c='red', label='Class 0')\n",
    "    plt.scatter(X[y == 1][:, 0], X[y == 1][:, 1], c='blue', label='Class 1')\n",
    "\n",
    "    # Set labels and legend\n",
    "    plt.legend(loc='best')\n",
    "\n",
    "    # Display the decision boundary as a solid line\n",
    "    contours = plt.contour(xx, yy, mesh_probs, levels=[0.5], colors='k', linewidths=1.5)\n",
    "    plt.clabel(contours, inline=True, fontsize=12)\n",
    "\n",
    "    # turn off axes\n",
    "    plt.gca().spines['top'].set_visible(False)\n",
    "    plt.gca().spines['right'].set_visible(False)\n",
    "    plt.gca().get_xaxis().set_ticks([])\n",
    "    plt.gca().get_yaxis().set_ticks([])\n",
    "    plt.tight_layout()\n",
    "\n",
    "    if not os.path.exists('plots'): os.mkdir('plots')\n",
    "    if epoch is not None: plt.savefig(f'plots/epoch{epoch}.png')\n",
    "    plt.close()\n",
    "\n",
    "plt.figure(figsize=(10, 6))\n",
    "plot_decision_boundary(net, X, Y)"
   ]
  },
  {
   "cell_type": "code",
   "execution_count": null,
   "metadata": {},
   "outputs": [],
   "source": [
    "batch_predict = jax.vmap(net, in_axes=(None, 0))\n",
    "loss_fn = BCELoss()\n",
    "\n",
    "def loss(states, xb, yb):\n",
    "    pred = batch_predict(states, xb)\n",
    "    l = loss_fn(pred, yb)\n",
    "    return l\n",
    "\n",
    "for xb, yb in loader:\n",
    "    loss(states, jnp.array(xb), jnp.array(yb))\n",
    "    break"
   ]
  },
  {
   "cell_type": "code",
   "execution_count": null,
   "metadata": {},
   "outputs": [],
   "source": [
    "step_size = 0.01\n",
    "@jax.jit\n",
    "def update(states: list[LinearState], xb, yb) -> list[LinearState]:\n",
    "    grads = jax.grad(loss, argnums=0)(states, xb, yb)\n",
    "    new_states = []\n",
    "    for state, grad in zip(states, grads):\n",
    "        new_weights = state.weights - grad.weights * step_size\n",
    "        new_bias = state.bias - grad.bias * step_size\n",
    "        new_states.append(LinearState(new_weights, new_bias))\n",
    "    return new_states\n"
   ]
  },
  {
   "cell_type": "code",
   "execution_count": null,
   "metadata": {},
   "outputs": [],
   "source": [
    "from IPython.display import clear_output\n",
    "from tqdm import tqdm\n",
    "\n",
    "EPOCHS = 80\n",
    "for epoch in tqdm(range(EPOCHS)):\n",
    "    for xb, yb in loader:\n",
    "        states = update(states, jnp.array(xb), jnp.array(yb))\n",
    "\n",
    "    # clear_output(wait=True)\n",
    "    plot_decision_boundary(net, X, Y, epoch)"
   ]
  },
  {
   "cell_type": "code",
   "execution_count": null,
   "metadata": {},
   "outputs": [],
   "source": [
    "import os\n",
    "import imageio\n",
    "\n",
    "image_files = sorted([f'plots/{filename}' for filename in os.listdir('plots')])\n",
    "images = [imageio.imread(file) for file in image_files]\n",
    "# imageio.mimsave('decision_boundary.gif', images, duration=0.5)  # Adjust duration as needed"
   ]
  }
 ],
 "metadata": {
  "kernelspec": {
   "display_name": ".venv",
   "language": "python",
   "name": "python3"
  },
  "language_info": {
   "codemirror_mode": {
    "name": "ipython",
    "version": 3
   },
   "file_extension": ".py",
   "mimetype": "text/x-python",
   "name": "python",
   "nbconvert_exporter": "python",
   "pygments_lexer": "ipython3",
   "version": "3.11.6"
  }
 },
 "nbformat": 4,
 "nbformat_minor": 2
}
