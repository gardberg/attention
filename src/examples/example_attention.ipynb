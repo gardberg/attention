{
 "cells": [
  {
   "cell_type": "code",
   "execution_count": 7,
   "metadata": {},
   "outputs": [],
   "source": [
    "import sys\n",
    "sys.path.append('../')\n",
    "import attention\n",
    "import jax.numpy as jnp\n",
    "import numpy as np"
   ]
  },
  {
   "cell_type": "code",
   "execution_count": 8,
   "metadata": {},
   "outputs": [
    {
     "name": "stdout",
     "output_type": "stream",
     "text": [
      "torch.Size([1536, 512])\n",
      "512.0\n",
      "in_proj_weight torch.Size([1536, 512])\n",
      "out_proj.weight torch.Size([512, 512])\n"
     ]
    }
   ],
   "source": [
    "from torch.nn import MultiheadAttention\n",
    "import torch\n",
    "\n",
    "attn = MultiheadAttention(embed_dim=512, num_heads=1, bias=False)\n",
    "\n",
    "# print weights of attn\n",
    "print(attn.in_proj_weight.shape)\n",
    "print(attn.in_proj_weight.shape[0]/3)\n",
    "\n",
    "# Torch uses a concatenated weight matrix of size (embed_dim * 3, embed_dim)\n",
    "x = torch.randn(1, 512)\n",
    "\n",
    "W_q = torch.randn(512, 512)\n",
    "W_k = torch.randn(512, 512)\n",
    "W_v = torch.randn(512, 512)\n",
    "\n",
    "W = torch.cat([W_q, W_k, W_v], dim=0)\n",
    "attn.in_proj_weight = torch.nn.Parameter(W)\n",
    "\n",
    "out, _ = attn(x, x, x)\n",
    "\n",
    "# print all learnable parameters\n",
    "\n",
    "for name, param in attn.named_parameters():\n",
    "    if param.requires_grad:\n",
    "        print(name, param.data.shape)"
   ]
  },
  {
   "cell_type": "code",
   "execution_count": 9,
   "metadata": {},
   "outputs": [
    {
     "data": {
      "text/plain": [
       "Array([5.091933, 4.222148], dtype=float32)"
      ]
     },
     "execution_count": 9,
     "metadata": {},
     "output_type": "execute_result"
    }
   ],
   "source": [
    "from attention import *\n",
    "\n",
    "x = jnp.array(torch.randn(10, 2))\n",
    "jnp.sum(x, axis=0)"
   ]
  },
  {
   "cell_type": "code",
   "execution_count": 10,
   "metadata": {},
   "outputs": [],
   "source": [
    "import math\n",
    "from typing import Optional, List\n",
    "\n",
    "import torch\n",
    "from torch import nn\n",
    "\n",
    "# from labml import tracker\n",
    "\n",
    "\n",
    "class PrepareForMultiHeadAttention(nn.Module):\n",
    "    \"\"\"\n",
    "    <a id=\"PrepareMHA\"></a>\n",
    "\n",
    "    ## Prepare for multi-head attention\n",
    "\n",
    "    This module does a linear transformation and splits the vector into given\n",
    "    number of heads for multi-head attention.\n",
    "    This is used to transform **key**, **query**, and **value** vectors.\n",
    "    \"\"\"\n",
    "\n",
    "    def __init__(self, d_model: int, heads: int, d_k: int, bias: bool):\n",
    "        super().__init__()\n",
    "        # Linear layer for linear transform\n",
    "        self.linear = nn.Linear(d_model, heads * d_k, bias=bias)\n",
    "        # Number of heads\n",
    "        self.heads = heads\n",
    "        # Number of dimensions in vectors in each head\n",
    "        self.d_k = d_k\n",
    "\n",
    "    def forward(self, x: torch.Tensor):\n",
    "        # Input has shape `[seq_len, batch_size, d_model]` or `[batch_size, d_model]`.\n",
    "        # We apply the linear transformation to the last dimension and split that into\n",
    "        # the heads.\n",
    "        print(f\"x.shape: {x.shape}\")\n",
    "        head_shape = x.shape[:-1]\n",
    "        print(f\"head_shape: {head_shape}\")\n",
    "\n",
    "        # Linear transform\n",
    "        x = self.linear(x)\n",
    "        print(f\"linear(x).shape: {x.shape}\")\n",
    "\n",
    "        # Split last dimension into heads\n",
    "        x = x.view(*head_shape, self.heads, self.d_k)\n",
    "        print(f\"output.shape: {x.shape}\")\n",
    "\n",
    "        # Output has shape `[seq_len, batch_size, heads, d_k]` or `[batch_size, heads, d_model]`\n",
    "        return x"
   ]
  },
  {
   "cell_type": "code",
   "execution_count": 11,
   "metadata": {},
   "outputs": [
    {
     "name": "stdout",
     "output_type": "stream",
     "text": [
      "x.shape: torch.Size([10, 1])\n",
      "head_shape: torch.Size([10])\n",
      "linear(x).shape: torch.Size([10, 1])\n",
      "output.shape: torch.Size([10, 1, 1])\n"
     ]
    }
   ],
   "source": [
    "d_model = 1 # embedding dimension, split among all heads\n",
    "n_heads = 1\n",
    "d_k = 1 \n",
    "seq_len = 10\n",
    "batch_size = 2\n",
    "\n",
    "# q, k, v have shape (seq_len, batch_size, d_model) = (context_len, batch_size, emb_size)\n",
    "\n",
    "forward1 = PrepareForMultiHeadAttention(d_model, n_heads, d_k, bias=False)\n",
    "\n",
    "x = torch.randn(seq_len, d_model, requires_grad=False)\n",
    "y_torch = forward1(x);"
   ]
  },
  {
   "cell_type": "code",
   "execution_count": 12,
   "metadata": {},
   "outputs": [
    {
     "name": "stdout",
     "output_type": "stream",
     "text": [
      "W.shape: (1, 1)\n",
      "x.shape: (10, 1)\n",
      "head_shape: (10,)\n",
      "linear(x).shape: (10, 1)\n",
      "reshape(x).shape: (10, 1, 1)\n"
     ]
    },
    {
     "data": {
      "text/plain": [
       "True"
      ]
     },
     "execution_count": 12,
     "metadata": {},
     "output_type": "execute_result"
    }
   ],
   "source": [
    "from attention import PreAttention\n",
    "\n",
    "preattn = PreAttention(emb_size=d_model, n_heads=n_heads, d_k=d_k, bias=False)\n",
    "xjnp = jnp.array(x)\n",
    "W = jnp.array(forward1.linear.weight.detach())\n",
    "state = DenseState(W, None)\n",
    "print(f\"W.shape: {W.shape}\")\n",
    "y_jax = preattn(state, xjnp);\n",
    "\n",
    "\n",
    "np.allclose(y_torch.detach().numpy(), y_jax, atol=1e-6)"
   ]
  },
  {
   "cell_type": "code",
   "execution_count": 7,
   "metadata": {},
   "outputs": [],
   "source": [
    "\n",
    "class MultiHeadAttention(nn.Module):\n",
    "    def __init__(self, heads: int, d_model: int, dropout_prob: float = 0.1, bias: bool = True):\n",
    "        \"\"\"\n",
    "        * `heads` is the number of heads.\n",
    "        * `d_model` is the number of features in the `query`, `key` and `value` vectors.\n",
    "        \"\"\"\n",
    "\n",
    "        super().__init__()\n",
    "\n",
    "        # Number of features per head\n",
    "        self.d_k = d_model // heads\n",
    "        # Number of heads\n",
    "        self.heads = heads\n",
    "\n",
    "        # These transform the `query`, `key` and `value` vectors for multi-headed attention.\n",
    "        self.query = PrepareForMultiHeadAttention(d_model, heads, self.d_k, bias=bias)\n",
    "        self.key = PrepareForMultiHeadAttention(d_model, heads, self.d_k, bias=bias)\n",
    "        self.value = PrepareForMultiHeadAttention(d_model, heads, self.d_k, bias=True)\n",
    "\n",
    "        # Softmax for attention along the time dimension of `key`\n",
    "        self.softmax = nn.Softmax(dim=1)\n",
    "\n",
    "        # Output layer\n",
    "        self.output = nn.Linear(d_model, d_model)\n",
    "        # Dropout\n",
    "        self.dropout = nn.Dropout(dropout_prob)\n",
    "        # Scaling factor before the softmax\n",
    "        self.scale = 1 / math.sqrt(self.d_k)\n",
    "\n",
    "        # We store attentions so that it can be used for logging, or other computations if needed\n",
    "        self.attn = None\n",
    "\n",
    "    def get_scores(self, query: torch.Tensor, key: torch.Tensor):\n",
    "\n",
    "        # Calculate $Q K^\\top$ or $S_{ijbh} = \\sum_d Q_{ibhd} K_{jbhd}$\n",
    "        return torch.einsum('ibhd,jbhd->ijbh', query, key)\n",
    "\n",
    "    def prepare_mask(self, mask: torch.Tensor, query_shape: List[int], key_shape: List[int]):\n",
    "        \"\"\"\n",
    "        `mask` has shape `[seq_len_q, seq_len_k, batch_size]`, where first dimension is the query dimension.\n",
    "        If the query dimension is equal to $1$ it will be broadcasted.\n",
    "        \"\"\"\n",
    "\n",
    "        assert mask.shape[0] == 1 or mask.shape[0] == query_shape[0]\n",
    "        assert mask.shape[1] == key_shape[0]\n",
    "        assert mask.shape[2] == 1 or mask.shape[2] == query_shape[1]\n",
    "\n",
    "        # Same mask applied to all heads.\n",
    "        mask = mask.unsqueeze(-1)\n",
    "\n",
    "        # resulting mask has shape `[seq_len_q, seq_len_k, batch_size, heads]`\n",
    "        return mask\n",
    "\n",
    "    def forward(self, *,\n",
    "                query: torch.Tensor,\n",
    "                key: torch.Tensor,\n",
    "                value: torch.Tensor,\n",
    "                mask: Optional[torch.Tensor] = None):\n",
    "        \"\"\"\n",
    "        `query`, `key` and `value` are the tensors that store\n",
    "        collection of *query*, *key* and *value* vectors.\n",
    "        They have shape `[seq_len, batch_size, d_model]`.\n",
    "\n",
    "        `mask` has shape `[seq_len, seq_len, batch_size]` and\n",
    "        `mask[i, j, b]` indicates whether for batch `b`,\n",
    "        query at position `i` has access to key-value at position `j`.\n",
    "        \"\"\"\n",
    "\n",
    "        # `query`, `key` and `value`  have shape `[seq_len, batch_size, d_model]`\n",
    "        seq_len, batch_size, _ = query.shape\n",
    "\n",
    "        if mask is not None:\n",
    "            mask = self.prepare_mask(mask, query.shape, key.shape)\n",
    "\n",
    "        # Prepare `query`, `key` and `value` for attention computation.\n",
    "        # These will then have shape `[seq_len, batch_size, heads, d_k]`.\n",
    "        query = self.query(query)\n",
    "        key = self.key(key)\n",
    "        value = self.value(value)\n",
    "\n",
    "        # Compute attention scores $Q K^\\top$.\n",
    "        # This gives a tensor of shape `[seq_len, seq_len, batch_size, heads]`.\n",
    "        scores = self.get_scores(query, key)\n",
    "\n",
    "        # Scale scores $\\frac{Q K^\\top}{\\sqrt{d_k}}$\n",
    "        scores *= self.scale\n",
    "\n",
    "        # Apply mask\n",
    "        if mask is not None:\n",
    "            scores = scores.masked_fill(mask == 0, float('-inf'))\n",
    "\n",
    "        # $softmax$ attention along the key sequence dimension\n",
    "        # $\\underset{seq}{softmax}\\Bigg(\\frac{Q K^\\top}{\\sqrt{d_k}}\\Bigg)$\n",
    "        attn = self.softmax(scores)\n",
    "\n",
    "        # Save attentions if debugging\n",
    "        #tracker.debug('attn', attn)\n",
    "\n",
    "        # Apply dropout\n",
    "        attn = self.dropout(attn)\n",
    "\n",
    "        # Multiply by values\n",
    "        # $$\\underset{seq}{softmax}\\Bigg(\\frac{Q K^\\top}{\\sqrt{d_k}}\\Bigg)V$$\n",
    "        x = torch.einsum(\"ijbh,jbhd->ibhd\", attn, value)\n",
    "\n",
    "        # Save attentions for any other calculations \n",
    "        self.attn = attn.detach()\n",
    "\n",
    "        # Concatenate multiple heads\n",
    "        x = x.reshape(seq_len, batch_size, -1)\n",
    "\n",
    "        # Output layer\n",
    "        return self.output(x)"
   ]
  }
 ],
 "metadata": {
  "kernelspec": {
   "display_name": ".venv",
   "language": "python",
   "name": "python3"
  },
  "language_info": {
   "codemirror_mode": {
    "name": "ipython",
    "version": 3
   },
   "file_extension": ".py",
   "mimetype": "text/x-python",
   "name": "python",
   "nbconvert_exporter": "python",
   "pygments_lexer": "ipython3",
   "version": "3.11.6"
  }
 },
 "nbformat": 4,
 "nbformat_minor": 2
}
