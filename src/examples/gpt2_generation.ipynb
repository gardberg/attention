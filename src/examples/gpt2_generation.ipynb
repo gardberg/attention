{
 "cells": [
  {
   "cell_type": "code",
   "execution_count": 5,
   "metadata": {},
   "outputs": [],
   "source": [
    "import sys\n",
    "sys.path.append('../')\n",
    "\n",
    "import jax\n",
    "from models.gpt2 import GPT2\n",
    "from states import GPT2State, to_jax_state"
   ]
  },
  {
   "cell_type": "code",
   "execution_count": 6,
   "metadata": {},
   "outputs": [
    {
     "data": {
      "text/plain": [
       "[7554, 1623, 2213, 1531, 11, 1900, 329, 465]"
      ]
     },
     "execution_count": 6,
     "metadata": {},
     "output_type": "execute_result"
    }
   ],
   "source": [
    "from transformers import GPT2Tokenizer, GPT2LMHeadModel\n",
    "import jax.numpy as jnp\n",
    "\n",
    "tokenizer = GPT2Tokenizer.from_pretrained(\"gpt2\")\n",
    "\n",
    "text = \"John Coltrane, known for his\"\n",
    "input_ids = tokenizer(text)[\"input_ids\"]\n",
    "\n",
    "input_ids"
   ]
  },
  {
   "cell_type": "code",
   "execution_count": 7,
   "metadata": {},
   "outputs": [
    {
     "data": {
      "text/plain": [
       "'John Coltrane, known for his work on the \"Star Trek\" series, has been named the new director of the new Star Trek'"
      ]
     },
     "execution_count": 7,
     "metadata": {},
     "output_type": "execute_result"
    }
   ],
   "source": [
    "# Pre trained weights\n",
    "import torch\n",
    "model_hf = GPT2LMHeadModel.from_pretrained(\"gpt2\")\n",
    "pretrained_state = to_jax_state(model_hf)\n",
    "\n",
    "model = GPT2()\n",
    "input_ids = jnp.array(input_ids)\n",
    "output = model.generate(pretrained_state, input_ids, jax.random.PRNGKey(2), 20)\n",
    "\n",
    "output_text = tokenizer.decode(output[0, 1:].tolist())\n",
    "output_text"
   ]
  }
 ],
 "metadata": {
  "kernelspec": {
   "display_name": ".venv",
   "language": "python",
   "name": "python3"
  },
  "language_info": {
   "codemirror_mode": {
    "name": "ipython",
    "version": 3
   },
   "file_extension": ".py",
   "mimetype": "text/x-python",
   "name": "python",
   "nbconvert_exporter": "python",
   "pygments_lexer": "ipython3",
   "version": "3.11.10"
  }
 },
 "nbformat": 4,
 "nbformat_minor": 2
}
