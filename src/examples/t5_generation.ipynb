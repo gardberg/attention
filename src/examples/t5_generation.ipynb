{
 "cells": [
  {
   "cell_type": "code",
   "execution_count": 2,
   "metadata": {},
   "outputs": [
    {
     "name": "stdout",
     "output_type": "stream",
     "text": [
      "Bonjour!\n"
     ]
    }
   ],
   "source": [
    "from transformers import AutoTokenizer, T5ForConditionalGeneration\n",
    "\n",
    "from states import to_jax_state\n",
    "from t5 import T5Model\n",
    "import jax\n",
    "import jax.numpy as jnp\n",
    "\n",
    "# Load pytorch model\n",
    "torch_t5_model = T5ForConditionalGeneration.from_pretrained(\"google-t5/t5-small\")\n",
    "tokenizer = AutoTokenizer.from_pretrained(\"google-t5/t5-small\")\n",
    "\n",
    "# Copy weights to jax state\n",
    "state = to_jax_state(torch_t5_model)\n",
    "\n",
    "jax_t5_model = T5Model(vocab_size=32128, emb_size=512)\n",
    "rng = jax.random.PRNGKey(42)\n",
    "\n",
    "INPUT = \"translate English to French: Hello!\"\n",
    "\n",
    "input_ids = jnp.array(tokenizer(INPUT, return_tensors=\"pt\").input_ids)\n",
    "pred_token_ids = jax_t5_model.generate(state, input_ids, rng, max_length=40)\n",
    "pred_text = tokenizer.decode(pred_token_ids[0], skip_special_tokens=True)\n",
    "\n",
    "print(pred_text)"
   ]
  }
 ],
 "metadata": {
  "kernelspec": {
   "display_name": ".venv",
   "language": "python",
   "name": "python3"
  },
  "language_info": {
   "codemirror_mode": {
    "name": "ipython",
    "version": 3
   },
   "file_extension": ".py",
   "mimetype": "text/x-python",
   "name": "python",
   "nbconvert_exporter": "python",
   "pygments_lexer": "ipython3",
   "version": "3.12.5"
  }
 },
 "nbformat": 4,
 "nbformat_minor": 2
}
