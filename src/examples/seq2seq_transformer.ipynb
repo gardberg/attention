{
 "cells": [
  {
   "cell_type": "code",
   "execution_count": null,
   "metadata": {},
   "outputs": [],
   "source": [
    "# Seq2seq inference using our own home made transformer\n",
    "\n",
    "import sys\n",
    "sys.path.append('../')\n",
    "import jax.numpy as jnp\n",
    "import jax\n",
    "from transformer import Seq2SeqTransformer"
   ]
  },
  {
   "cell_type": "code",
   "execution_count": null,
   "metadata": {},
   "outputs": [],
   "source": [
    "from tiktoken import list_encoding_names\n",
    "\n",
    "list_encoding_names()"
   ]
  },
  {
   "cell_type": "code",
   "execution_count": null,
   "metadata": {},
   "outputs": [],
   "source": [
    "# Load tokenizer\n",
    "\n",
    "from utils import get_tokenizer\n",
    "\n",
    "tokenizer = get_tokenizer(\"r50k_base\")\n",
    "VOCAB_SIZE = tokenizer.n_vocab\n",
    "print(f\"Vocab size: {VOCAB_SIZE}\")"
   ]
  },
  {
   "cell_type": "code",
   "execution_count": null,
   "metadata": {},
   "outputs": [],
   "source": [
    "print(tokenizer.special_tokens_set)\n",
    "print(tokenizer.eot_token)\n",
    "print(tokenizer.decode([50256]))"
   ]
  },
  {
   "cell_type": "code",
   "execution_count": null,
   "metadata": {},
   "outputs": [],
   "source": [
    "EMB_SIZE = 4\n",
    "rng = jax.random.PRNGKey(0)\n",
    "\n",
    "transformer_kwargs = {\n",
    "    'n_heads': 2,\n",
    "    'n_layers': 1,\n",
    "    'd_ff': 2,\n",
    "}\n",
    "\n",
    "model = Seq2SeqTransformer(src_vocab_size=VOCAB_SIZE, emb_size=EMB_SIZE, **transformer_kwargs)\n",
    "state = model.init_state(rng)"
   ]
  },
  {
   "cell_type": "code",
   "execution_count": null,
   "metadata": {},
   "outputs": [],
   "source": [
    "# Try a forward pass\n",
    "\n",
    "SRC_LEN = 2\n",
    "TGT_LEN = 3\n",
    "BATCH_SIZE = 1\n",
    "\n",
    "src = jnp.ones((SRC_LEN, BATCH_SIZE), dtype=jnp.int32)\n",
    "tgt = jnp.ones((TGT_LEN, BATCH_SIZE), dtype=jnp.int32)\n",
    "print(src.shape) # (SRC_LEN, BATCH_SIZE)\n",
    "\n",
    "rng = jax.random.PRNGKey(1)\n",
    "out = model(state, src, tgt, rng) # (TGT_LEN, BATCH_SIZE, VOCAB_SIZE)\n",
    "print(out.shape)"
   ]
  },
  {
   "cell_type": "code",
   "execution_count": 24,
   "metadata": {},
   "outputs": [
    {
     "name": "stdout",
     "output_type": "stream",
     "text": [
      "[   44 29309   474 29309]\n",
      "! sidelines TerritoriesClock deed\n"
     ]
    }
   ],
   "source": [
    "# Greedy decoding. We'll use the same tokenizer for input and output for simplicity!\n",
    "# Should really use custom tokens. Pretend we're starting with token 0\n",
    "\n",
    "src = \"Mumbo jumbo\"\n",
    "src = jnp.array(tokenizer.encode(src))\n",
    "print(src)\n",
    "\n",
    "rng = jax.random.PRNGKey(42069)\n",
    "res = model.generate(state, src, rng, max_len=4)\n",
    "res_list = res.squeeze().tolist()\n",
    "\n",
    "print(tokenizer.decode(res_list))"
   ]
  }
 ],
 "metadata": {
  "kernelspec": {
   "display_name": ".venv",
   "language": "python",
   "name": "python3"
  },
  "language_info": {
   "codemirror_mode": {
    "name": "ipython",
    "version": 3
   },
   "file_extension": ".py",
   "mimetype": "text/x-python",
   "name": "python",
   "nbconvert_exporter": "python",
   "pygments_lexer": "ipython3",
   "version": "3.11.6"
  }
 },
 "nbformat": 4,
 "nbformat_minor": 2
}
